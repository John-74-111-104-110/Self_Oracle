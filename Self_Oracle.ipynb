{
  "nbformat": 4,
  "nbformat_minor": 0,
  "metadata": {
    "colab": {
      "provenance": []
    },
    "kernelspec": {
      "name": "python3",
      "display_name": "Python 3"
    },
    "language_info": {
      "name": "python"
    }
  },
  "cells": [
    {
      "cell_type": "markdown",
      "source": [
        "The Self Oracle program. Based on the mathematical formula S = d² / 4 * π, where S = the area of the circle, d = the diameter of the circle, π = the number Pi, predicts the stupefaction from studying by randomly generating the area of the pupil circumference and calculating from this area the diameter of the pupil, which indicates the size of the pupil and therefore the degree of stupefaction."
      ],
      "metadata": {
        "id": "PJpOk0j94Wig"
      }
    },
    {
      "cell_type": "code",
      "source": [
        "import random\n",
        "import math"
      ],
      "metadata": {
        "id": "7RQWYO_RJAf1"
      },
      "execution_count": null,
      "outputs": []
    },
    {
      "cell_type": "code",
      "source": [
        "d = float(0)\n",
        "S = float(0)\n",
        "S = random.uniform(0.95, 50.24)\n",
        "print('The program \"Self Oracle\" welcomes you.')\n",
        "print('Find out how stupefaction you will be from learning today.')\n",
        "input('Enter today\\'s date: ')\n",
        "d = math.sqrt(((S / 3.14) * 4))\n",
        "if 1.10 <= d < 4.55:\n",
        "  print('Today you will not be stupefaction, the pupils will not dilate.')\n",
        "elif 4.55 < d <= 8.00:\n",
        "  print('Today you will be stupefaction again! The pupils will dilate and disperse in different directions %)')\n",
        "else:\n",
        "  print('Today you will have a moderately working atmosphere.')"
      ],
      "metadata": {
        "colab": {
          "base_uri": "https://localhost:8080/"
        },
        "id": "q7rMQWO24yJp",
        "outputId": "dd430932-528c-40c7-b770-bf96aae93fc3"
      },
      "execution_count": null,
      "outputs": [
        {
          "output_type": "stream",
          "name": "stdout",
          "text": [
            "The program \"Self Oracle\" welcomes you.\n",
            "Find out how stupefaction you will be from learning today.\n",
            "Enter today's date: Jan 21 2023\n",
            "Today you will be stupefaction again! The pupils will dilate and disperse in different directions %)\n"
          ]
        }
      ]
    }
  ]
}